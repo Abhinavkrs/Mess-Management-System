{
 "cells": [
  {
   "cell_type": "code",
   "execution_count": 1,
   "metadata": {
    "collapsed": true
   },
   "outputs": [],
   "source": [
    "import pandas as pd\n",
    "import numpy as np"
   ]
  },
  {
   "cell_type": "code",
   "execution_count": 2,
   "metadata": {
    "collapsed": true
   },
   "outputs": [],
   "source": [
    "def initialization():\n",
    "    st_db = pd.DataFrame(columns=['Reg No.','Name','Credits'])\n",
    "    st_db.to_csv('st_db.csv')"
   ]
  },
  {
   "cell_type": "code",
   "execution_count": 3,
   "metadata": {
    "collapsed": true,
    "scrolled": true
   },
   "outputs": [],
   "source": [
    "def add_student(reg_no,name,credits):\n",
    "    st_db = view_db()\n",
    "    st_db = st_db.reset_index()\n",
    "    st_db = st_db.append(pd.DataFrame([[reg_no,name,credits]],columns=st_db.columns))\n",
    "    st_db.to_csv('st_db.csv')\n",
    "    st_db = st_db.set_index('Reg No.')\n",
    "    return st_db"
   ]
  },
  {
   "cell_type": "code",
   "execution_count": 4,
   "metadata": {
    "collapsed": true
   },
   "outputs": [],
   "source": [
    "def initial_db():\n",
    "    add_student('15BEC0260','Abhinav Kumar',3500)\n",
    "    add_student('15BEC0124','Aditi Bhardwaj',3500)\n",
    "    add_student('15BEC0242','Animesh Kumar',3500)\n",
    "    add_student('15BEC0057','Vaishali Shukla',3500)\n",
    "    #df = pd.read_csv('st_db.csv',index_col=['Reg No.']) \n",
    "    #df = df.drop('Unnamed: 0',axis=1)\n",
    "    #df.to_csv('st_db.csv')\n",
    "    #return df"
   ]
  },
  {
   "cell_type": "code",
   "execution_count": 5,
   "metadata": {
    "collapsed": true
   },
   "outputs": [],
   "source": [
    "def remove_student(reg_no):\n",
    "    st_db = view_db()\n",
    "    st_db = st_db.drop(reg_no)\n",
    "    st_db.to_csv('st_db.csv')\n",
    "    return st_db"
   ]
  },
  {
   "cell_type": "code",
   "execution_count": 6,
   "metadata": {
    "collapsed": true
   },
   "outputs": [],
   "source": [
    "def view_db():\n",
    "    df = pd.read_csv('st_db.csv',index_col=['Reg No.']) \n",
    "    try:\n",
    "        df = df.drop('Unnamed: 0',axis=1)\n",
    "    except:\n",
    "        return df\n",
    "    else:\n",
    "        return df"
   ]
  },
  {
   "cell_type": "code",
   "execution_count": 7,
   "metadata": {
    "collapsed": true
   },
   "outputs": [],
   "source": [
    "def student_detail(reg_no):\n",
    "    df = view_db()\n",
    "    return df.loc[reg_no]"
   ]
  },
  {
   "cell_type": "code",
   "execution_count": 8,
   "metadata": {
    "collapsed": true
   },
   "outputs": [],
   "source": [
    "def debit(reg_no,amt):\n",
    "    df = view_db()\n",
    "    curr_val = int(df.loc[reg_no]['Credits'])\n",
    "    if(curr_val>100):\n",
    "        df.set_value(reg_no,'Credits',curr_val-amt)\n",
    "    else:\n",
    "        print(\"Sorry, Insufficient Credit Balance\")\n",
    "    df.to_csv('st_db.csv')\n",
    "    return df    "
   ]
  },
  {
   "cell_type": "code",
   "execution_count": 9,
   "metadata": {
    "collapsed": true
   },
   "outputs": [],
   "source": [
    "def credit(reg_no,amt):\n",
    "    df = view_db()\n",
    "    curr_val = int(df.loc[reg_no]['Credits'])\n",
    "    df.set_value(reg_no,'Credits',curr_val+amt)\n",
    "    df.to_csv('st_db.csv')\n",
    "    return df   "
   ]
  },
  {
   "cell_type": "code",
   "execution_count": 10,
   "metadata": {
    "collapsed": true
   },
   "outputs": [],
   "source": [
    "def view_menu_db():\n",
    "    menu_db = pd.read_csv('menu_db.csv',index_col=['Id'])\n",
    "    return menu_db"
   ]
  },
  {
   "cell_type": "code",
   "execution_count": 11,
   "metadata": {
    "collapsed": true
   },
   "outputs": [],
   "source": [
    "def order_amt(order_id):\n",
    "    menu_db = view_menu_db()\n",
    "    return float(menu_db.loc[order_id]['Price'])"
   ]
  },
  {
   "cell_type": "code",
   "execution_count": 12,
   "metadata": {
    "collapsed": true
   },
   "outputs": [],
   "source": [
    "def generate_token(curr_token):\n",
    "    curr_token = curr_token+1\n",
    "    return curr_token"
   ]
  },
  {
   "cell_type": "code",
   "execution_count": 13,
   "metadata": {
    "collapsed": true
   },
   "outputs": [],
   "source": [
    "def initialize_order_db():\n",
    "    order_db = pd.DataFrame(columns=['Order No.','Time','Reg. No.','Order','Amount'])\n",
    "    #order_db.set_index('Order No.')\n",
    "    order_db.to_csv('orderdb.csv')"
   ]
  },
  {
   "cell_type": "code",
   "execution_count": 14,
   "metadata": {
    "collapsed": true
   },
   "outputs": [],
   "source": [
    "def view_order_db():\n",
    "    df = pd.read_csv('orderdb.csv',index_col=['Order No.']) \n",
    "    try:\n",
    "        df = df.drop('Unnamed: 0',axis=1)\n",
    "    except:\n",
    "        return df\n",
    "    else:\n",
    "        return df"
   ]
  },
  {
   "cell_type": "code",
   "execution_count": 16,
   "metadata": {
    "collapsed": true
   },
   "outputs": [],
   "source": [
    "def add_order(order_no,time,reg_no,order,amt):\n",
    "    df = view_order_db()\n",
    "    df = df.reset_index()\n",
    "    df = df.append(pd.DataFrame([[order_no,time,reg_no,order,amt]],columns=df.columns))   \n",
    "    df.to_csv('orderdb.csv')\n",
    "    df = df.set_index('Order No.')\n",
    "    return df"
   ]
  },
  {
   "cell_type": "code",
   "execution_count": 30,
   "metadata": {
    "collapsed": true
   },
   "outputs": [],
   "source": [
    "def student_order_history(reg_no):\n",
    "    df = view_order_db()\n",
    "    df.reset_index()\n",
    "    df = df.set_index('Reg. No.')\n",
    "    return df.loc[reg_no]"
   ]
  }
 ],
 "metadata": {
  "kernelspec": {
   "display_name": "Python 2",
   "language": "python",
   "name": "python2"
  },
  "language_info": {
   "codemirror_mode": {
    "name": "ipython",
    "version": 2
   },
   "file_extension": ".py",
   "mimetype": "text/x-python",
   "name": "python",
   "nbconvert_exporter": "python",
   "pygments_lexer": "ipython2",
   "version": "2.7.13"
  }
 },
 "nbformat": 4,
 "nbformat_minor": 2
}
