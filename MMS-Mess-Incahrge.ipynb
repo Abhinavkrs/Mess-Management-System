{
 "cells": [
  {
   "cell_type": "code",
   "execution_count": 1,
   "metadata": {
    "collapsed": true
   },
   "outputs": [],
   "source": [
    "import pandas as pd\n",
    "from MDBS import *"
   ]
  },
  {
   "cell_type": "code",
   "execution_count": 2,
   "metadata": {},
   "outputs": [
    {
     "name": "stdout",
     "output_type": "stream",
     "text": [
      "Welcome\n",
      "1. New Registration\n",
      "2. Remove a Registration\n",
      "3. Update Credits\n",
      "4. History\n",
      "5. Access Students Database\n",
      "Enter a choice from above: 5\n",
      "                      Name  Credits\n",
      "Reg No.                            \n",
      "15BEC0260    Abhinav Kumar     3460\n",
      "15BEC0124   Aditi Bhardwaj     3481\n",
      "15BEC0242    Animesh Kumar     3500\n",
      "15BEC0057  Vaishali Shukla     3500\n"
     ]
    }
   ],
   "source": [
    "print('Welcome')\n",
    "print('1. New Registration\\n2. Remove a Registration\\n3. Update Credits\\n4. History\\n5. Access Students Database')\n",
    "choice = raw_input('Enter a choice from above: ')\n",
    "if(choice == '1'):\n",
    "    reg_no = raw_input('Enter the registration number: ')\n",
    "    name = raw_input('Enter the name: ')\n",
    "    fee = int(input('Enter the amount paid: '))\n",
    "    add_student(reg_no,name,fee)\n",
    "elif(choice == '2'):\n",
    "    reg_no = raw_input('Enter the registration number: ')\n",
    "    remove_student(reg_no)\n",
    "elif(choice == '3'):\n",
    "    reg_no = raw_input('Enter the registration number: ')\n",
    "    fee = int(input('Enter the amount paid: '))\n",
    "    credit(reg_no,fee)\n",
    "elif(choice == '4'):\n",
    "    print('1. Student Order History\\n2. Orders Placed History')\n",
    "    his_choice = raw_input('Enter your choice: ')\n",
    "    if(his_choice == '1'):\n",
    "        reg_no = raw_input('Enter the registration number: ')\n",
    "        try:\n",
    "            print(student_order_history(reg_no))\n",
    "        except:\n",
    "            print('No orders placed yet')\n",
    "            #print(student_order_history(reg_no))\n",
    "    elif(his_choice == '2'):\n",
    "        print(view_order_db())\n",
    "    else:\n",
    "        print('Invalid Input')\n",
    "elif(choice == '5'):\n",
    "    print(view_db())\n",
    "else:\n",
    "    print('Invalid Input')"
   ]
  },
  {
   "cell_type": "markdown",
   "metadata": {
    "collapsed": true
   },
   "source": [
    "# "
   ]
  }
 ],
 "metadata": {
  "kernelspec": {
   "display_name": "Python 2",
   "language": "python",
   "name": "python2"
  },
  "language_info": {
   "codemirror_mode": {
    "name": "ipython",
    "version": 2
   },
   "file_extension": ".py",
   "mimetype": "text/x-python",
   "name": "python",
   "nbconvert_exporter": "python",
   "pygments_lexer": "ipython2",
   "version": "2.7.13"
  }
 },
 "nbformat": 4,
 "nbformat_minor": 2
}
